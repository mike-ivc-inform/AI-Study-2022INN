{
 "cells": [
  {
   "cell_type": "markdown",
   "id": "488ddf59",
   "metadata": {},
   "source": [
    "Lection 4, homework-1\n",
    "--"
   ]
  },
  {
   "cell_type": "markdown",
   "id": "6c2516f9",
   "metadata": {},
   "source": [
    "2022-04-23, Mike N"
   ]
  },
  {
   "cell_type": "code",
   "execution_count": 1,
   "id": "d06ab1f1",
   "metadata": {},
   "outputs": [],
   "source": [
    "import numpy as np\n",
    "import matplotlib.pyplot as plt\n",
    "import random"
   ]
  },
  {
   "cell_type": "code",
   "execution_count": 2,
   "id": "55b12260",
   "metadata": {},
   "outputs": [
    {
     "name": "stderr",
     "output_type": "stream",
     "text": [
      "2022-04-23 11:53:53.832338: W tensorflow/stream_executor/platform/default/dso_loader.cc:64] Could not load dynamic library 'libcudart.so.11.0'; dlerror: libcudart.so.11.0: cannot open shared object file: No such file or directory\n",
      "2022-04-23 11:53:53.832359: I tensorflow/stream_executor/cuda/cudart_stub.cc:29] Ignore above cudart dlerror if you do not have a GPU set up on your machine.\n"
     ]
    }
   ],
   "source": [
    "from keras.datasets import mnist\n",
    "from keras.models import Sequential\n",
    "from keras.layers.core import Dense, Dropout, Activation\n",
    "from keras.utils import np_utils"
   ]
  },
  {
   "cell_type": "code",
   "execution_count": 3,
   "id": "d85758af",
   "metadata": {},
   "outputs": [],
   "source": [
    "(x_train, y_train), (x_test, y_test) = mnist.load_data()"
   ]
  },
  {
   "cell_type": "code",
   "execution_count": 4,
   "id": "96b3cd7e",
   "metadata": {},
   "outputs": [
    {
     "name": "stdout",
     "output_type": "stream",
     "text": [
      "x_train shape (60000, 28, 28)\n",
      "y_train shape (60000,)\n",
      "x_test shape (10000, 28, 28)\n",
      "y_test shape (10000,)\n"
     ]
    }
   ],
   "source": [
    "print(\"x_train shape\", x_train.shape)\n",
    "print(\"y_train shape\", y_train.shape)\n",
    "print(\"x_test shape\", x_test.shape)\n",
    "print(\"y_test shape\", y_test.shape)"
   ]
  },
  {
   "cell_type": "code",
   "execution_count": 5,
   "id": "5da237b5",
   "metadata": {},
   "outputs": [
    {
     "name": "stdout",
     "output_type": "stream",
     "text": [
      "Activation\t Dense\t Dropout\t Sequential\t mnist\t np\t np_utils\t plt\t random\t \n",
      "x_test\t x_train\t y_test\t y_train\t \n"
     ]
    }
   ],
   "source": [
    "%who"
   ]
  },
  {
   "cell_type": "code",
   "execution_count": 6,
   "id": "d2e981f2",
   "metadata": {},
   "outputs": [
    {
     "data": {
      "image/png": "[encoded data removed]",
      "text/plain": [
       "<Figure size 648x648 with 9 Axes>"
      ]
     },
     "metadata": {
      "needs_background": "light"
     },
     "output_type": "display_data"
    }
   ],
   "source": [
    "plt.rcParams['figure.figsize'] = (9,9)\n",
    "\n",
    "for i in range(9):\n",
    "    plt.subplot(3,3,i+1)\n",
    "    num = random.randint(0, len(x_train))\n",
    "    \n",
    "    plt.imshow(x_train[num], cmap='gray', interpolation='none')\n",
    "    plt.title(\"Class {}, Image number: {}\".format(y_train[num], num))\n",
    "    \n",
    "plt.tight_layout()"
   ]
  },
  {
   "cell_type": "code",
   "execution_count": 8,
   "id": "d602dd09",
   "metadata": {},
   "outputs": [
    {
     "name": "stdout",
     "output_type": "stream",
     "text": [
      "0  0  0  0  0    0    0    0    0    0    0    0    0    0    0    0    0    0    0    0    0    0    0  0  0  0  0  0  \n",
      "0  0  0  0  0    0    0    0    0    0    0    0    0    0    0    0    0    0    0    0    0    0    0  0  0  0  0  0  \n",
      "0  0  0  0  0    0    0    0    0    0    0    0    0    0    0    0    0    0    0    0    0    0    0  0  0  0  0  0  \n",
      "0  0  0  0  0    0    0    0    0    0    0    0    0    0    0    0    0    0    0    0    0    0    0  0  0  0  0  0  \n",
      "0  0  0  0  0    0    0    0    0    0    0    0  147  219   25    0    0    0    0    0    0    0    0  0  0  0  0  0  \n",
      "0  0  0  0  0    0    0    0    0    0    0   65  250  254   46    0    0    0    0    0    0   23    6  0  0  0  0  0  \n",
      "0  0  0  0  0    0    0    0    0    0    4  225  254  176    0    0    0    0    0    0  105  231   41  0  0  0  0  0  \n",
      "0  0  0  0  0    0    0    0    0    0   54  250  254   66    0    0    0    0    0    0  151  254  194  0  0  0  0  0  \n",
      "0  0  0  0  0    0    0    0    0   11  214  254  157    5    0    0    0    0    0    0  155  254  155  0  0  0  0  0  \n",
      "0  0  0  0  0    0    0    0    0  104  254  254   37    0    0    0    0    0    0    9  195  254   37  0  0  0  0  0  \n",
      "0  0  0  0  0    0    0    0   34  240  254  182   11    0    0    0    0    0    0   19  254  235   25  0  0  0  0  0  \n",
      "0  0  0  0  0    0    0   45  240  254  254   12    0    0    0    0    0    0    0   97  254  197    0  0  0  0  0  0  \n",
      "0  0  0  0  0    0   16  196  254  227   37    2    0    0    0    0    0    0   97  247  254  186    0  0  0  0  0  0  \n",
      "0  0  0  0  0    0  104  254  236   54    0    0    0    0    0    0   43  160  242  254  254   33    0  0  0  0  0  0  \n",
      "0  0  0  0  0   10  213  254  124    0    0    0    0    0   18  116  234  254  254  254  255    9    0  0  0  0  0  0  \n",
      "0  0  0  0  0   87  254  197   19   17   38   38   38  108  199  254  185  127  254  254  129    1    0  0  0  0  0  0  \n",
      "0  0  0  0  0  170  254  254  222  223  254  254  254  254  249  112   13  115  254  235   17    0    0  0  0  0  0  0  \n",
      "0  0  0  0  0  125  237  254  183  178  178  178  132   85   32    0    3  194  254  140    0    0    0  0  0  0  0  0  \n",
      "0  0  0  0  0    0   15   18    2    0    0    0    0    0    0    0   63  254  245   45    0    0    0  0  0  0  0  0  \n",
      "0  0  0  0  0    0    0    0    0    0    0    0    0    0    0    0  146  254  206    0    0    0    0  0  0  0  0  0  \n",
      "0  0  0  0  0    0    0    0    0    0    0    0    0    0    0   59  237  254  206    0    0    0    0  0  0  0  0  0  \n",
      "0  0  0  0  0    0    0    0    0    0    0    0    0    0    0  132  254  254  116    0    0    0    0  0  0  0  0  0  \n",
      "0  0  0  0  0    0    0    0    0    0    0    0    0    0    8  180  254  217   23    0    0    0    0  0  0  0  0  0  \n",
      "0  0  0  0  0    0    0    0    0    0    0    0    0    0   42  243  254  109    0    0    0    0    0  0  0  0  0  0  \n",
      "0  0  0  0  0    0    0    0    0    0    0    0    0    0    0    0    0    0    0    0    0    0    0  0  0  0  0  0  \n",
      "0  0  0  0  0    0    0    0    0    0    0    0    0    0    0    0    0    0    0    0    0    0    0  0  0  0  0  0  \n",
      "0  0  0  0  0    0    0    0    0    0    0    0    0    0    0    0    0    0    0    0    0    0    0  0  0  0  0  0  \n",
      "0  0  0  0  0    0    0    0    0    0    0    0    0    0    0    0    0    0    0    0    0    0    0  0  0  0  0  0  \n"
     ]
    }
   ],
   "source": [
    "def matprint(mat, fmt=\"g\"):\n",
    "    col_maxes = [max([len((\"{:\"+fmt+\"}\").format(x)) for x in col]) for col in mat.T]\n",
    "    for x in mat:\n",
    "        for i, y in enumerate(x):\n",
    "            print((\"{:\"+str(col_maxes[i])+fmt+\"}\").format(y), end=\"  \")\n",
    "        print(\"\")\n",
    "\n",
    "matprint(x_train[22660])"
   ]
  },
  {
   "cell_type": "code",
   "execution_count": null,
   "id": "9a36ab8a",
   "metadata": {},
   "outputs": [],
   "source": []
  }
 ],
 "metadata": {
  "kernelspec": {
   "display_name": "Python 3 (ipykernel)",
   "language": "python",
   "name": "python3"
  },
  "language_info": {
   "codemirror_mode": {
    "name": "ipython",
    "version": 3
   },
   "file_extension": ".py",
   "mimetype": "text/x-python",
   "name": "python",
   "nbconvert_exporter": "python",
   "pygments_lexer": "ipython3",
   "version": "3.9.7"
  }
 },
 "nbformat": 4,
 "nbformat_minor": 5
}
