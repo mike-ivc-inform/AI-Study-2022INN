{
  "cells": [
    {
      "cell_type": "markdown",
      "metadata": {
        "cell_id": "00000-d7da12dc-75b8-418b-a299-239e69c86a15",
        "deepnote_cell_type": "markdown",
        "id": "cbPqnU1emt_2"
      },
      "source": [
        "# File Formats\n",
        "\n"
      ]
    },
    {
      "cell_type": "markdown",
      "metadata": {
        "cell_id": "00001-f391c3d6-f2be-40ff-935a-7dbe66500534",
        "deepnote_cell_type": "markdown",
        "id": "-rgYel7umt_-"
      },
      "source": [
        "## Feather\n",
        "\n",
        "Для легких данных рекомендуется использовать [Feather](https://github.com/wesm/feather). Это быстрое, совместимое хранилище кадров данных, которое поставляется с привязками для Python и R.\n",
        "\n",
        "Feather также использует спецификацию столбцовой памяти Apache Arrow для представления двоичных данных на диске. Это делает операции чтения и записи очень быстрыми."
      ]
    },
    {
      "cell_type": "markdown",
      "metadata": {
        "cell_id": "00002-668ae76d-ef35-44ea-9e89-ed68896e97a1",
        "deepnote_cell_type": "markdown",
        "tags": [],
        "id": "IdAcxEssmt__"
      },
      "source": [
        "## Parquet file format\n",
        "\n",
        "[Формат Parquet] (https://github.com/apache/parquet-format) — это обычное хранилище двоичных данных, используемое, в частности, в сфере Hadoop/big-data. Это дает несколько преимуществ, связанных с обработкой больших данных:\n",
        "\n",
        "Проект Apache Parquet предоставляет стандартизированный формат хранения столбцов с открытым исходным кодом для использования в системах анализа данных. Первоначально он был создан для использования в Apache Hadoop с такими системами, как Apache Drill, Apache Hive, Apache Impala и Apache Spark, приняв его в качестве общего стандарта для высокопроизводительного ввода-вывода данных.\n",
        "\n"
      ]
    },
    {
      "cell_type": "markdown",
      "metadata": {
        "cell_id": "00003-20ddaff2-d1b2-4377-bba4-8dbe36cb4b0e",
        "deepnote_cell_type": "markdown",
        "tags": [],
        "id": "8b4N425pmuAA"
      },
      "source": [
        "## Hierarchical Data Format\n",
        "\n",
        "[HDF] (https://en.wikipedia.org/wiki/Hierarchical_Data_Format) — это формат данных с самоописанием.\n",
        "позволяя приложению интерпретировать структуру и\n",
        "содержимое файла без внешней информации.\n",
        "Один файл HDF может содержать набор связанных объектов.\n",
        "к которым можно получить доступ как к группе или как к отдельным объектам."
      ]
    },
    {
      "cell_type": "code",
      "execution_count": 1,
      "metadata": {
        "cell_id": "00002-86f06cb5-60f9-4b76-8b28-d8be6216d31c",
        "deepnote_cell_type": "code",
        "execution_millis": 365,
        "execution_start": 1605607212760,
        "output_cleared": false,
        "source_hash": "2148f3e9",
        "id": "evm1jD-qmuAD",
        "colab": {
          "base_uri": "https://localhost:8080/"
        },
        "outputId": "302ccc96-503e-49a5-8f36-4c22eaa41f50"
      },
      "outputs": [
        {
          "output_type": "execute_result",
          "data": {
            "text/plain": [
              "(500000, 10)"
            ]
          },
          "metadata": {},
          "execution_count": 1
        }
      ],
      "source": [
        "import feather\n",
        "import pandas as pd\n",
        "import numpy as np\n",
        "arr = np.random.randn(500000) # 10% nulls\n",
        "arr[::10] = np.nan\n",
        "df = pd.DataFrame({'column_{0}'.format(i): arr for i in range(10)})\n",
        "df.shape"
      ]
    },
    {
      "cell_type": "code",
      "execution_count": 2,
      "metadata": {
        "cell_id": "00003-6c3102ae-966b-4c76-863d-02e663356c24",
        "deepnote_cell_type": "code",
        "execution_millis": 9969,
        "execution_start": 1605607226298,
        "output_cleared": false,
        "source_hash": "601b1750",
        "tags": [],
        "id": "11mrJBxamuAE",
        "outputId": "d58a330f-9150-47bb-bfa4-406d4e684388",
        "colab": {
          "base_uri": "https://localhost:8080/"
        }
      },
      "outputs": [
        {
          "output_type": "stream",
          "name": "stdout",
          "text": [
            "CPU times: user 7.75 s, sys: 200 ms, total: 7.95 s\n",
            "Wall time: 7.97 s\n"
          ]
        }
      ],
      "source": [
        "%time df.to_csv('test.csv')"
      ]
    },
    {
      "cell_type": "code",
      "execution_count": null,
      "metadata": {
        "cell_id": "00007-eebd2468-f5fd-4c69-83c1-1c7680da818a",
        "deepnote_cell_type": "code",
        "execution_millis": 904,
        "execution_start": 1605607570330,
        "output_cleared": false,
        "source_hash": "648965ca",
        "tags": [],
        "id": "lFqv1QgbmuAI",
        "outputId": "31f50a1d-a637-4da5-8660-070eff238ebd"
      },
      "outputs": [
        {
          "name": "stdout",
          "output_type": "stream",
          "text": [
            "rm: test.h5: No such file or directory\r\n"
          ]
        }
      ],
      "source": [
        "%rm test.h5"
      ]
    },
    {
      "cell_type": "code",
      "execution_count": 3,
      "metadata": {
        "cell_id": "00003-3efe272e-e2c6-4f92-a559-d1a7e7cc422e",
        "deepnote_cell_type": "code",
        "execution_millis": 3074,
        "execution_start": 1605607572677,
        "output_cleared": false,
        "source_hash": "9511287b",
        "tags": [],
        "id": "n1KjO-ObmuAK",
        "outputId": "a11b90ea-33c3-46fb-9793-6376cd9d3636",
        "colab": {
          "base_uri": "https://localhost:8080/"
        }
      },
      "outputs": [
        {
          "output_type": "stream",
          "name": "stdout",
          "text": [
            "CPU times: user 57.9 ms, sys: 67.4 ms, total: 125 ms\n",
            "Wall time: 245 ms\n"
          ]
        }
      ],
      "source": [
        "%time df.to_hdf(\"test.h5\", key=\"test\")"
      ]
    },
    {
      "cell_type": "code",
      "execution_count": 4,
      "metadata": {
        "cell_id": "00003-e32d9d18-f251-4149-a739-083b7e98905c",
        "deepnote_cell_type": "code",
        "execution_millis": 1258,
        "execution_start": 1605607364857,
        "output_cleared": false,
        "source_hash": "3658418d",
        "tags": [],
        "id": "QpaoJg8jmuAM",
        "outputId": "8ff48fea-9b80-47a5-cbbd-307549779b7d",
        "colab": {
          "base_uri": "https://localhost:8080/"
        }
      },
      "outputs": [
        {
          "output_type": "stream",
          "name": "stdout",
          "text": [
            "CPU times: user 345 ms, sys: 79.5 ms, total: 425 ms\n",
            "Wall time: 545 ms\n"
          ]
        }
      ],
      "source": [
        "%time df.to_parquet('test.parquet')"
      ]
    },
    {
      "cell_type": "code",
      "execution_count": 5,
      "metadata": {
        "cell_id": "00003-3d58cd78-c520-45a8-aee0-c9786b4ee486",
        "deepnote_cell_type": "code",
        "execution_millis": 524,
        "execution_start": 1605607390362,
        "output_cleared": false,
        "source_hash": "8a260d4f",
        "tags": [],
        "id": "1DWHgAH2muAN",
        "outputId": "3b7f16be-5651-4433-a76c-4e8612d969b9",
        "colab": {
          "base_uri": "https://localhost:8080/"
        }
      },
      "outputs": [
        {
          "output_type": "stream",
          "name": "stdout",
          "text": [
            "CPU times: user 273 ms, sys: 42.1 ms, total: 315 ms\n",
            "Wall time: 194 ms\n"
          ]
        }
      ],
      "source": [
        "%time df.to_feather('test.feather')"
      ]
    },
    {
      "cell_type": "code",
      "source": [
        "df.head()"
      ],
      "metadata": {
        "colab": {
          "base_uri": "https://localhost:8080/",
          "height": 206
        },
        "id": "2jGDJ1n2CCII",
        "outputId": "501e5224-5269-4cd2-c3c0-695e4af7d6a4"
      },
      "execution_count": 6,
      "outputs": [
        {
          "output_type": "execute_result",
          "data": {
            "text/plain": [
              "   column_0  column_1  column_2  column_3  column_4  column_5  column_6  \\\n",
              "0       NaN       NaN       NaN       NaN       NaN       NaN       NaN   \n",
              "1  1.324064  1.324064  1.324064  1.324064  1.324064  1.324064  1.324064   \n",
              "2 -1.599340 -1.599340 -1.599340 -1.599340 -1.599340 -1.599340 -1.599340   \n",
              "3 -1.534603 -1.534603 -1.534603 -1.534603 -1.534603 -1.534603 -1.534603   \n",
              "4  0.314239  0.314239  0.314239  0.314239  0.314239  0.314239  0.314239   \n",
              "\n",
              "   column_7  column_8  column_9  \n",
              "0       NaN       NaN       NaN  \n",
              "1  1.324064  1.324064  1.324064  \n",
              "2 -1.599340 -1.599340 -1.599340  \n",
              "3 -1.534603 -1.534603 -1.534603  \n",
              "4  0.314239  0.314239  0.314239  "
            ],
            "text/html": [
              "\n",
              "  <div id=\"df-f4ea7746-444e-4fad-85c9-2d9eec5bb970\">\n",
              "    <div class=\"colab-df-container\">\n",
              "      <div>\n",
              "<style scoped>\n",
              "    .dataframe tbody tr th:only-of-type {\n",
              "        vertical-align: middle;\n",
              "    }\n",
              "\n",
              "    .dataframe tbody tr th {\n",
              "        vertical-align: top;\n",
              "    }\n",
              "\n",
              "    .dataframe thead th {\n",
              "        text-align: right;\n",
              "    }\n",
              "</style>\n",
              "<table border=\"1\" class=\"dataframe\">\n",
              "  <thead>\n",
              "    <tr style=\"text-align: right;\">\n",
              "      <th></th>\n",
              "      <th>column_0</th>\n",
              "      <th>column_1</th>\n",
              "      <th>column_2</th>\n",
              "      <th>column_3</th>\n",
              "      <th>column_4</th>\n",
              "      <th>column_5</th>\n",
              "      <th>column_6</th>\n",
              "      <th>column_7</th>\n",
              "      <th>column_8</th>\n",
              "      <th>column_9</th>\n",
              "    </tr>\n",
              "  </thead>\n",
              "  <tbody>\n",
              "    <tr>\n",
              "      <th>0</th>\n",
              "      <td>NaN</td>\n",
              "      <td>NaN</td>\n",
              "      <td>NaN</td>\n",
              "      <td>NaN</td>\n",
              "      <td>NaN</td>\n",
              "      <td>NaN</td>\n",
              "      <td>NaN</td>\n",
              "      <td>NaN</td>\n",
              "      <td>NaN</td>\n",
              "      <td>NaN</td>\n",
              "    </tr>\n",
              "    <tr>\n",
              "      <th>1</th>\n",
              "      <td>1.324064</td>\n",
              "      <td>1.324064</td>\n",
              "      <td>1.324064</td>\n",
              "      <td>1.324064</td>\n",
              "      <td>1.324064</td>\n",
              "      <td>1.324064</td>\n",
              "      <td>1.324064</td>\n",
              "      <td>1.324064</td>\n",
              "      <td>1.324064</td>\n",
              "      <td>1.324064</td>\n",
              "    </tr>\n",
              "    <tr>\n",
              "      <th>2</th>\n",
              "      <td>-1.599340</td>\n",
              "      <td>-1.599340</td>\n",
              "      <td>-1.599340</td>\n",
              "      <td>-1.599340</td>\n",
              "      <td>-1.599340</td>\n",
              "      <td>-1.599340</td>\n",
              "      <td>-1.599340</td>\n",
              "      <td>-1.599340</td>\n",
              "      <td>-1.599340</td>\n",
              "      <td>-1.599340</td>\n",
              "    </tr>\n",
              "    <tr>\n",
              "      <th>3</th>\n",
              "      <td>-1.534603</td>\n",
              "      <td>-1.534603</td>\n",
              "      <td>-1.534603</td>\n",
              "      <td>-1.534603</td>\n",
              "      <td>-1.534603</td>\n",
              "      <td>-1.534603</td>\n",
              "      <td>-1.534603</td>\n",
              "      <td>-1.534603</td>\n",
              "      <td>-1.534603</td>\n",
              "      <td>-1.534603</td>\n",
              "    </tr>\n",
              "    <tr>\n",
              "      <th>4</th>\n",
              "      <td>0.314239</td>\n",
              "      <td>0.314239</td>\n",
              "      <td>0.314239</td>\n",
              "      <td>0.314239</td>\n",
              "      <td>0.314239</td>\n",
              "      <td>0.314239</td>\n",
              "      <td>0.314239</td>\n",
              "      <td>0.314239</td>\n",
              "      <td>0.314239</td>\n",
              "      <td>0.314239</td>\n",
              "    </tr>\n",
              "  </tbody>\n",
              "</table>\n",
              "</div>\n",
              "      <button class=\"colab-df-convert\" onclick=\"convertToInteractive('df-f4ea7746-444e-4fad-85c9-2d9eec5bb970')\"\n",
              "              title=\"Convert this dataframe to an interactive table.\"\n",
              "              style=\"display:none;\">\n",
              "        \n",
              "  <svg xmlns=\"http://www.w3.org/2000/svg\" height=\"24px\"viewBox=\"0 0 24 24\"\n",
              "       width=\"24px\">\n",
              "    <path d=\"M0 0h24v24H0V0z\" fill=\"none\"/>\n",
              "    <path d=\"M18.56 5.44l.94 2.06.94-2.06 2.06-.94-2.06-.94-.94-2.06-.94 2.06-2.06.94zm-11 1L8.5 8.5l.94-2.06 2.06-.94-2.06-.94L8.5 2.5l-.94 2.06-2.06.94zm10 10l.94 2.06.94-2.06 2.06-.94-2.06-.94-.94-2.06-.94 2.06-2.06.94z\"/><path d=\"M17.41 7.96l-1.37-1.37c-.4-.4-.92-.59-1.43-.59-.52 0-1.04.2-1.43.59L10.3 9.45l-7.72 7.72c-.78.78-.78 2.05 0 2.83L4 21.41c.39.39.9.59 1.41.59.51 0 1.02-.2 1.41-.59l7.78-7.78 2.81-2.81c.8-.78.8-2.07 0-2.86zM5.41 20L4 18.59l7.72-7.72 1.47 1.35L5.41 20z\"/>\n",
              "  </svg>\n",
              "      </button>\n",
              "      \n",
              "  <style>\n",
              "    .colab-df-container {\n",
              "      display:flex;\n",
              "      flex-wrap:wrap;\n",
              "      gap: 12px;\n",
              "    }\n",
              "\n",
              "    .colab-df-convert {\n",
              "      background-color: #E8F0FE;\n",
              "      border: none;\n",
              "      border-radius: 50%;\n",
              "      cursor: pointer;\n",
              "      display: none;\n",
              "      fill: #1967D2;\n",
              "      height: 32px;\n",
              "      padding: 0 0 0 0;\n",
              "      width: 32px;\n",
              "    }\n",
              "\n",
              "    .colab-df-convert:hover {\n",
              "      background-color: #E2EBFA;\n",
              "      box-shadow: 0px 1px 2px rgba(60, 64, 67, 0.3), 0px 1px 3px 1px rgba(60, 64, 67, 0.15);\n",
              "      fill: #174EA6;\n",
              "    }\n",
              "\n",
              "    [theme=dark] .colab-df-convert {\n",
              "      background-color: #3B4455;\n",
              "      fill: #D2E3FC;\n",
              "    }\n",
              "\n",
              "    [theme=dark] .colab-df-convert:hover {\n",
              "      background-color: #434B5C;\n",
              "      box-shadow: 0px 1px 3px 1px rgba(0, 0, 0, 0.15);\n",
              "      filter: drop-shadow(0px 1px 2px rgba(0, 0, 0, 0.3));\n",
              "      fill: #FFFFFF;\n",
              "    }\n",
              "  </style>\n",
              "\n",
              "      <script>\n",
              "        const buttonEl =\n",
              "          document.querySelector('#df-f4ea7746-444e-4fad-85c9-2d9eec5bb970 button.colab-df-convert');\n",
              "        buttonEl.style.display =\n",
              "          google.colab.kernel.accessAllowed ? 'block' : 'none';\n",
              "\n",
              "        async function convertToInteractive(key) {\n",
              "          const element = document.querySelector('#df-f4ea7746-444e-4fad-85c9-2d9eec5bb970');\n",
              "          const dataTable =\n",
              "            await google.colab.kernel.invokeFunction('convertToInteractive',\n",
              "                                                     [key], {});\n",
              "          if (!dataTable) return;\n",
              "\n",
              "          const docLinkHtml = 'Like what you see? Visit the ' +\n",
              "            '<a target=\"_blank\" href=https://colab.research.google.com/notebooks/data_table.ipynb>data table notebook</a>'\n",
              "            + ' to learn more about interactive tables.';\n",
              "          element.innerHTML = '';\n",
              "          dataTable['output_type'] = 'display_data';\n",
              "          await google.colab.output.renderOutput(dataTable, element);\n",
              "          const docLink = document.createElement('div');\n",
              "          docLink.innerHTML = docLinkHtml;\n",
              "          element.appendChild(docLink);\n",
              "        }\n",
              "      </script>\n",
              "    </div>\n",
              "  </div>\n",
              "  "
            ]
          },
          "metadata": {},
          "execution_count": 6
        }
      ]
    },
    {
      "cell_type": "code",
      "execution_count": 7,
      "metadata": {
        "cell_id": "00011-ea9189a2-035b-4a8e-84cc-1c71a317ef88",
        "deepnote_cell_type": "code",
        "execution_millis": 51,
        "execution_start": 1605607453945,
        "output_cleared": false,
        "source_hash": "48eefa13",
        "tags": [],
        "id": "GHNEKkqrmuAQ",
        "outputId": "25d11582-ff78-42f9-cb67-52072a4f604b",
        "colab": {
          "base_uri": "https://localhost:8080/"
        }
      },
      "outputs": [
        {
          "output_type": "stream",
          "name": "stdout",
          "text": [
            "88M\ttest.csv\n",
            "36M\ttest.feather\n",
            "42M\ttest.h5\n",
            "38M\ttest.parquet\n"
          ]
        }
      ],
      "source": [
        "%%bash\n",
        "du -sh test.*"
      ]
    },
    {
      "cell_type": "code",
      "execution_count": 8,
      "metadata": {
        "cell_id": "00008-48514262-1c39-4f50-8244-d1e3f75760d8",
        "deepnote_cell_type": "code",
        "execution_millis": 2122,
        "execution_start": 1605607494359,
        "output_cleared": false,
        "source_hash": "5e7e15ac",
        "tags": [],
        "id": "oxZ_PpKkmuAS",
        "outputId": "2cd52be3-9dde-4841-916b-2359083754dc",
        "colab": {
          "base_uri": "https://localhost:8080/"
        }
      },
      "outputs": [
        {
          "output_type": "stream",
          "name": "stdout",
          "text": [
            "CPU times: user 1.38 s, sys: 57.9 ms, total: 1.44 s\n",
            "Wall time: 2.3 s\n"
          ]
        },
        {
          "output_type": "execute_result",
          "data": {
            "text/plain": [
              "500000"
            ]
          },
          "metadata": {},
          "execution_count": 8
        }
      ],
      "source": [
        "%%time\n",
        "df = pd.read_csv(\"test.csv\")\n",
        "len(df)"
      ]
    },
    {
      "cell_type": "code",
      "execution_count": 9,
      "metadata": {
        "cell_id": "00009-fb4d1486-9047-47fd-804b-d8498e9234ce",
        "deepnote_cell_type": "code",
        "execution_millis": 1400,
        "execution_start": 1605607580459,
        "output_cleared": false,
        "source_hash": "71468c8a",
        "tags": [],
        "id": "RVyCIpHgmuAT",
        "outputId": "e11e3286-f470-4e09-f4da-75ba27b3bc92",
        "colab": {
          "base_uri": "https://localhost:8080/"
        }
      },
      "outputs": [
        {
          "output_type": "stream",
          "name": "stdout",
          "text": [
            "CPU times: user 46.1 ms, sys: 29.6 ms, total: 75.7 ms\n",
            "Wall time: 76.3 ms\n"
          ]
        },
        {
          "output_type": "execute_result",
          "data": {
            "text/plain": [
              "500000"
            ]
          },
          "metadata": {},
          "execution_count": 9
        }
      ],
      "source": [
        "%%time\n",
        "df = pd.read_hdf(\"test.h5\")\n",
        "len(df)"
      ]
    },
    {
      "cell_type": "code",
      "execution_count": 10,
      "metadata": {
        "cell_id": "00010-34278fa4-4bee-4496-a023-b02519d5e310",
        "deepnote_cell_type": "code",
        "execution_millis": 871,
        "execution_start": 1605607590036,
        "output_cleared": false,
        "source_hash": "afb15a98",
        "tags": [],
        "id": "_MGuMkEGmuAU",
        "outputId": "39575e1e-35ce-4ceb-e3a7-ac1e3b20655c",
        "colab": {
          "base_uri": "https://localhost:8080/"
        }
      },
      "outputs": [
        {
          "output_type": "stream",
          "name": "stdout",
          "text": [
            "CPU times: user 72.3 ms, sys: 114 ms, total: 186 ms\n",
            "Wall time: 162 ms\n"
          ]
        },
        {
          "output_type": "execute_result",
          "data": {
            "text/plain": [
              "500000"
            ]
          },
          "metadata": {},
          "execution_count": 10
        }
      ],
      "source": [
        "%%time\n",
        "df = pd.read_parquet(\"test.parquet\")\n",
        "len(df)"
      ]
    },
    {
      "cell_type": "code",
      "execution_count": 11,
      "metadata": {
        "cell_id": "00003-304f31cd-09e7-4629-8bcd-29d0d3de97a8",
        "deepnote_cell_type": "code",
        "execution_millis": 504,
        "execution_start": 1605607599396,
        "output_cleared": false,
        "source_hash": "5110928f",
        "id": "e2sxrwKomuAV",
        "outputId": "fe6002ed-7070-4442-e41a-012cdfa30aeb",
        "colab": {
          "base_uri": "https://localhost:8080/"
        }
      },
      "outputs": [
        {
          "output_type": "stream",
          "name": "stdout",
          "text": [
            "CPU times: user 14.5 ms, sys: 71 ms, total: 85.5 ms\n",
            "Wall time: 62.9 ms\n"
          ]
        },
        {
          "output_type": "execute_result",
          "data": {
            "text/plain": [
              "500000"
            ]
          },
          "metadata": {},
          "execution_count": 11
        }
      ],
      "source": [
        "%%time\n",
        "df = pd.read_feather(\"test.feather\")\n",
        "len(df)"
      ]
    },
    {
      "cell_type": "code",
      "execution_count": null,
      "metadata": {
        "cell_id": "00012-200d2d6f-7b4f-4739-87e5-ee1d535d3eea",
        "deepnote_cell_type": "code",
        "execution_millis": 0,
        "execution_start": 1605607647672,
        "output_cleared": false,
        "source_hash": "83688577",
        "tags": [],
        "id": "qch89SLjmuAW"
      },
      "outputs": [],
      "source": [
        "# Теперь мы создаем новый большой фрейм данных со столбцом строк."
      ]
    },
    {
      "cell_type": "code",
      "source": [
        "!pip install lorem"
      ],
      "metadata": {
        "colab": {
          "base_uri": "https://localhost:8080/"
        },
        "id": "9mzeB4WNC3Uo",
        "outputId": "522529ba-f494-477f-8053-fca4e877044c"
      },
      "execution_count": 12,
      "outputs": [
        {
          "output_type": "stream",
          "name": "stdout",
          "text": [
            "Looking in indexes: https://pypi.org/simple, https://us-python.pkg.dev/colab-wheels/public/simple/\n",
            "Collecting lorem\n",
            "  Downloading lorem-0.1.1-py3-none-any.whl (5.0 kB)\n",
            "Installing collected packages: lorem\n",
            "Successfully installed lorem-0.1.1\n"
          ]
        }
      ]
    },
    {
      "cell_type": "code",
      "execution_count": 13,
      "metadata": {
        "cell_id": "00004-9d559345-404e-4d73-bbe0-ab773d5e751b",
        "deepnote_cell_type": "code",
        "execution_millis": 29715,
        "execution_start": 1605607754053,
        "output_cleared": false,
        "source_hash": "11d4259f",
        "tags": [],
        "id": "Q-98lr8HmuAX",
        "outputId": "e92acd2e-3862-480c-a7c9-2a6cc852f939",
        "colab": {
          "base_uri": "https://localhost:8080/"
        }
      },
      "outputs": [
        {
          "output_type": "execute_result",
          "data": {
            "text/plain": [
              "1000000"
            ]
          },
          "metadata": {},
          "execution_count": 13
        }
      ],
      "source": [
        "import numpy as np\n",
        "import pandas as pd\n",
        "from lorem import sentence\n",
        "\n",
        "words = np.array(sentence().strip().lower().replace(\".\", \" \").split())\n",
        "\n",
        "np.random.seed(0)  \n",
        "n = 1000000\n",
        "df = pd.DataFrame(np.c_[np.random.randn(n, 5),\n",
        "                  np.random.randint(0,10,(n, 2)),\n",
        "                  np.random.randint(0,1,(n, 2)),\n",
        "np.array([np.random.choice(words) for i in range(n)])] , \n",
        "columns=list('ABCDEFGHIJ'))\n",
        "\n",
        "df[\"A\"][::10] = np.nan\n",
        "len(df)\n"
      ]
    },
    {
      "cell_type": "code",
      "source": [
        "df.head()"
      ],
      "metadata": {
        "colab": {
          "base_uri": "https://localhost:8080/",
          "height": 270
        },
        "id": "mcUlf8DZDcyv",
        "outputId": "d4c83796-bc46-43b1-ce74-5b287c976ac8"
      },
      "execution_count": 14,
      "outputs": [
        {
          "output_type": "execute_result",
          "data": {
            "text/plain": [
              "                     A                   B                     C  \\\n",
              "0                  NaN  0.4001572083672233    0.9787379841057392   \n",
              "1   -0.977277879876411  0.9500884175255894   -0.1513572082976979   \n",
              "2    0.144043571160878   1.454273506962975    0.7610377251469934   \n",
              "3  0.33367432737426683  1.4940790731576061  -0.20515826376580087   \n",
              "4  -2.5529898158340787  0.6536185954403606    0.8644361988595057   \n",
              "\n",
              "                      D                    E  F  G  H  I        J  \n",
              "0     2.240893199201458   1.8675579901499675  0  4  0  0    velit  \n",
              "1  -0.10321885179355784  0.41059850193837233  5  5  0  0    velit  \n",
              "2   0.12167501649282841  0.44386323274542566  6  1  0  0    dolor  \n",
              "3   0.31306770165090136  -0.8540957393017248  0  5  0  0     eius  \n",
              "4   -0.7421650204064419   2.2697546239876076  6  7  0  0  quiquia  "
            ],
            "text/html": [
              "\n",
              "  <div id=\"df-baf9fe04-557e-44f2-8528-a8bdc0f210ed\">\n",
              "    <div class=\"colab-df-container\">\n",
              "      <div>\n",
              "<style scoped>\n",
              "    .dataframe tbody tr th:only-of-type {\n",
              "        vertical-align: middle;\n",
              "    }\n",
              "\n",
              "    .dataframe tbody tr th {\n",
              "        vertical-align: top;\n",
              "    }\n",
              "\n",
              "    .dataframe thead th {\n",
              "        text-align: right;\n",
              "    }\n",
              "</style>\n",
              "<table border=\"1\" class=\"dataframe\">\n",
              "  <thead>\n",
              "    <tr style=\"text-align: right;\">\n",
              "      <th></th>\n",
              "      <th>A</th>\n",
              "      <th>B</th>\n",
              "      <th>C</th>\n",
              "      <th>D</th>\n",
              "      <th>E</th>\n",
              "      <th>F</th>\n",
              "      <th>G</th>\n",
              "      <th>H</th>\n",
              "      <th>I</th>\n",
              "      <th>J</th>\n",
              "    </tr>\n",
              "  </thead>\n",
              "  <tbody>\n",
              "    <tr>\n",
              "      <th>0</th>\n",
              "      <td>NaN</td>\n",
              "      <td>0.4001572083672233</td>\n",
              "      <td>0.9787379841057392</td>\n",
              "      <td>2.240893199201458</td>\n",
              "      <td>1.8675579901499675</td>\n",
              "      <td>0</td>\n",
              "      <td>4</td>\n",
              "      <td>0</td>\n",
              "      <td>0</td>\n",
              "      <td>velit</td>\n",
              "    </tr>\n",
              "    <tr>\n",
              "      <th>1</th>\n",
              "      <td>-0.977277879876411</td>\n",
              "      <td>0.9500884175255894</td>\n",
              "      <td>-0.1513572082976979</td>\n",
              "      <td>-0.10321885179355784</td>\n",
              "      <td>0.41059850193837233</td>\n",
              "      <td>5</td>\n",
              "      <td>5</td>\n",
              "      <td>0</td>\n",
              "      <td>0</td>\n",
              "      <td>velit</td>\n",
              "    </tr>\n",
              "    <tr>\n",
              "      <th>2</th>\n",
              "      <td>0.144043571160878</td>\n",
              "      <td>1.454273506962975</td>\n",
              "      <td>0.7610377251469934</td>\n",
              "      <td>0.12167501649282841</td>\n",
              "      <td>0.44386323274542566</td>\n",
              "      <td>6</td>\n",
              "      <td>1</td>\n",
              "      <td>0</td>\n",
              "      <td>0</td>\n",
              "      <td>dolor</td>\n",
              "    </tr>\n",
              "    <tr>\n",
              "      <th>3</th>\n",
              "      <td>0.33367432737426683</td>\n",
              "      <td>1.4940790731576061</td>\n",
              "      <td>-0.20515826376580087</td>\n",
              "      <td>0.31306770165090136</td>\n",
              "      <td>-0.8540957393017248</td>\n",
              "      <td>0</td>\n",
              "      <td>5</td>\n",
              "      <td>0</td>\n",
              "      <td>0</td>\n",
              "      <td>eius</td>\n",
              "    </tr>\n",
              "    <tr>\n",
              "      <th>4</th>\n",
              "      <td>-2.5529898158340787</td>\n",
              "      <td>0.6536185954403606</td>\n",
              "      <td>0.8644361988595057</td>\n",
              "      <td>-0.7421650204064419</td>\n",
              "      <td>2.2697546239876076</td>\n",
              "      <td>6</td>\n",
              "      <td>7</td>\n",
              "      <td>0</td>\n",
              "      <td>0</td>\n",
              "      <td>quiquia</td>\n",
              "    </tr>\n",
              "  </tbody>\n",
              "</table>\n",
              "</div>\n",
              "      <button class=\"colab-df-convert\" onclick=\"convertToInteractive('df-baf9fe04-557e-44f2-8528-a8bdc0f210ed')\"\n",
              "              title=\"Convert this dataframe to an interactive table.\"\n",
              "              style=\"display:none;\">\n",
              "        \n",
              "  <svg xmlns=\"http://www.w3.org/2000/svg\" height=\"24px\"viewBox=\"0 0 24 24\"\n",
              "       width=\"24px\">\n",
              "    <path d=\"M0 0h24v24H0V0z\" fill=\"none\"/>\n",
              "    <path d=\"M18.56 5.44l.94 2.06.94-2.06 2.06-.94-2.06-.94-.94-2.06-.94 2.06-2.06.94zm-11 1L8.5 8.5l.94-2.06 2.06-.94-2.06-.94L8.5 2.5l-.94 2.06-2.06.94zm10 10l.94 2.06.94-2.06 2.06-.94-2.06-.94-.94-2.06-.94 2.06-2.06.94z\"/><path d=\"M17.41 7.96l-1.37-1.37c-.4-.4-.92-.59-1.43-.59-.52 0-1.04.2-1.43.59L10.3 9.45l-7.72 7.72c-.78.78-.78 2.05 0 2.83L4 21.41c.39.39.9.59 1.41.59.51 0 1.02-.2 1.41-.59l7.78-7.78 2.81-2.81c.8-.78.8-2.07 0-2.86zM5.41 20L4 18.59l7.72-7.72 1.47 1.35L5.41 20z\"/>\n",
              "  </svg>\n",
              "      </button>\n",
              "      \n",
              "  <style>\n",
              "    .colab-df-container {\n",
              "      display:flex;\n",
              "      flex-wrap:wrap;\n",
              "      gap: 12px;\n",
              "    }\n",
              "\n",
              "    .colab-df-convert {\n",
              "      background-color: #E8F0FE;\n",
              "      border: none;\n",
              "      border-radius: 50%;\n",
              "      cursor: pointer;\n",
              "      display: none;\n",
              "      fill: #1967D2;\n",
              "      height: 32px;\n",
              "      padding: 0 0 0 0;\n",
              "      width: 32px;\n",
              "    }\n",
              "\n",
              "    .colab-df-convert:hover {\n",
              "      background-color: #E2EBFA;\n",
              "      box-shadow: 0px 1px 2px rgba(60, 64, 67, 0.3), 0px 1px 3px 1px rgba(60, 64, 67, 0.15);\n",
              "      fill: #174EA6;\n",
              "    }\n",
              "\n",
              "    [theme=dark] .colab-df-convert {\n",
              "      background-color: #3B4455;\n",
              "      fill: #D2E3FC;\n",
              "    }\n",
              "\n",
              "    [theme=dark] .colab-df-convert:hover {\n",
              "      background-color: #434B5C;\n",
              "      box-shadow: 0px 1px 3px 1px rgba(0, 0, 0, 0.15);\n",
              "      filter: drop-shadow(0px 1px 2px rgba(0, 0, 0, 0.3));\n",
              "      fill: #FFFFFF;\n",
              "    }\n",
              "  </style>\n",
              "\n",
              "      <script>\n",
              "        const buttonEl =\n",
              "          document.querySelector('#df-baf9fe04-557e-44f2-8528-a8bdc0f210ed button.colab-df-convert');\n",
              "        buttonEl.style.display =\n",
              "          google.colab.kernel.accessAllowed ? 'block' : 'none';\n",
              "\n",
              "        async function convertToInteractive(key) {\n",
              "          const element = document.querySelector('#df-baf9fe04-557e-44f2-8528-a8bdc0f210ed');\n",
              "          const dataTable =\n",
              "            await google.colab.kernel.invokeFunction('convertToInteractive',\n",
              "                                                     [key], {});\n",
              "          if (!dataTable) return;\n",
              "\n",
              "          const docLinkHtml = 'Like what you see? Visit the ' +\n",
              "            '<a target=\"_blank\" href=https://colab.research.google.com/notebooks/data_table.ipynb>data table notebook</a>'\n",
              "            + ' to learn more about interactive tables.';\n",
              "          element.innerHTML = '';\n",
              "          dataTable['output_type'] = 'display_data';\n",
              "          await google.colab.output.renderOutput(dataTable, element);\n",
              "          const docLink = document.createElement('div');\n",
              "          docLink.innerHTML = docLinkHtml;\n",
              "          element.appendChild(docLink);\n",
              "        }\n",
              "      </script>\n",
              "    </div>\n",
              "  </div>\n",
              "  "
            ]
          },
          "metadata": {},
          "execution_count": 14
        }
      ]
    },
    {
      "cell_type": "code",
      "execution_count": 15,
      "metadata": {
        "cell_id": "00006-dbb81bcb-1dae-4e78-b88f-7261409341b8",
        "deepnote_cell_type": "code",
        "execution_millis": 6742,
        "execution_start": 1605607804335,
        "output_cleared": false,
        "source_hash": "86969307",
        "tags": [],
        "id": "4weIIit4muAa",
        "outputId": "39607a5c-2c24-40e1-d01c-e0c54037ac16",
        "colab": {
          "base_uri": "https://localhost:8080/"
        }
      },
      "outputs": [
        {
          "output_type": "stream",
          "name": "stdout",
          "text": [
            "CPU times: user 6.39 s, sys: 257 ms, total: 6.65 s\n",
            "Wall time: 7.05 s\n"
          ]
        }
      ],
      "source": [
        "%%time\n",
        "df.to_csv('test.csv', index=False)"
      ]
    },
    {
      "cell_type": "code",
      "execution_count": 16,
      "metadata": {
        "cell_id": "00015-4af8fb60-2e45-41a8-8173-c03959c65112",
        "deepnote_cell_type": "code",
        "execution_millis": 10808,
        "execution_start": 1605607849621,
        "output_cleared": false,
        "source_hash": "60cee7f2",
        "tags": [],
        "id": "r5dvwE2smuAc",
        "outputId": "15d99e18-8d2f-451c-d43b-ba4e5bb9a7d1",
        "colab": {
          "base_uri": "https://localhost:8080/"
        }
      },
      "outputs": [
        {
          "output_type": "stream",
          "name": "stderr",
          "text": [
            "/usr/local/lib/python3.7/dist-packages/pandas/core/generic.py:2718: PerformanceWarning: \n",
            "your performance may suffer as PyTables will pickle object types that it cannot\n",
            "map directly to c-types [inferred_type->mixed,key->block0_values] [items->Index(['A', 'B', 'C', 'D', 'E', 'F', 'G', 'H', 'I', 'J'], dtype='object')]\n",
            "\n",
            "  encoding=encoding,\n"
          ]
        },
        {
          "output_type": "stream",
          "name": "stdout",
          "text": [
            "CPU times: user 3.52 s, sys: 237 ms, total: 3.75 s\n",
            "Wall time: 5.13 s\n"
          ]
        }
      ],
      "source": [
        "%%time\n",
        "df.to_hdf('test.h5', key=\"test\", mode=\"w\")"
      ]
    },
    {
      "cell_type": "code",
      "execution_count": 17,
      "metadata": {
        "cell_id": "00007-169983f0-f35d-4d2d-a62d-dac421509f03",
        "deepnote_cell_type": "code",
        "execution_millis": 2654,
        "execution_start": 1605607878875,
        "output_cleared": false,
        "source_hash": "a5d7fbf1",
        "tags": [],
        "id": "hoikiGD0muAd",
        "outputId": "a85ff4f3-7fc4-4c07-bd0b-d87ad68cc298",
        "colab": {
          "base_uri": "https://localhost:8080/"
        }
      },
      "outputs": [
        {
          "output_type": "stream",
          "name": "stdout",
          "text": [
            "CPU times: user 1.21 s, sys: 258 ms, total: 1.47 s\n",
            "Wall time: 1.26 s\n"
          ]
        }
      ],
      "source": [
        "%%time\n",
        "df.to_feather('test.feather')"
      ]
    },
    {
      "cell_type": "code",
      "execution_count": 18,
      "metadata": {
        "cell_id": "00017-a8112e1b-2c08-47ac-b740-059f6cb840b2",
        "deepnote_cell_type": "code",
        "execution_millis": 2305,
        "execution_start": 1605607913541,
        "output_cleared": false,
        "source_hash": "ad143313",
        "tags": [],
        "id": "q8dB_Bz5muAf",
        "outputId": "008aaf7b-e420-4ae8-951c-baf001a9c0c6",
        "colab": {
          "base_uri": "https://localhost:8080/"
        }
      },
      "outputs": [
        {
          "output_type": "stream",
          "name": "stdout",
          "text": [
            "CPU times: user 1.59 s, sys: 221 ms, total: 1.81 s\n",
            "Wall time: 1.83 s\n"
          ]
        }
      ],
      "source": [
        "%%time\n",
        "df.to_parquet('test.parquet')"
      ]
    },
    {
      "cell_type": "code",
      "execution_count": 19,
      "metadata": {
        "cell_id": "00018-2b95458f-c287-4419-86e5-c617a63ef1ef",
        "deepnote_cell_type": "code",
        "execution_millis": 8728,
        "execution_start": 1605607923868,
        "output_cleared": false,
        "source_hash": "bdf7d1af",
        "tags": [],
        "id": "udcybD2MmuAf",
        "outputId": "4f7d21a8-7a76-468a-cee7-3f94262f1a9a",
        "colab": {
          "base_uri": "https://localhost:8080/"
        }
      },
      "outputs": [
        {
          "output_type": "stream",
          "name": "stdout",
          "text": [
            "CPU times: user 1.3 s, sys: 445 ms, total: 1.75 s\n",
            "Wall time: 1.76 s\n"
          ]
        },
        {
          "output_type": "execute_result",
          "data": {
            "text/plain": [
              "1000000"
            ]
          },
          "metadata": {},
          "execution_count": 19
        }
      ],
      "source": [
        "%%time \n",
        "df = pd.read_csv(\"test.csv\")\n",
        "len(df)"
      ]
    },
    {
      "cell_type": "code",
      "execution_count": 20,
      "metadata": {
        "cell_id": "00019-ee4b525b-cc49-49a1-85c0-c79bbb36d662",
        "deepnote_cell_type": "code",
        "execution_millis": 13601,
        "execution_start": 1605607936800,
        "output_cleared": false,
        "source_hash": "771dceb3",
        "tags": [],
        "id": "hrP-iTuFmuAg",
        "outputId": "6c688774-fad4-43f5-b943-d2d39e8c2dfc",
        "colab": {
          "base_uri": "https://localhost:8080/"
        }
      },
      "outputs": [
        {
          "output_type": "stream",
          "name": "stdout",
          "text": [
            "CPU times: user 1.83 s, sys: 1.33 s, total: 3.17 s\n",
            "Wall time: 3.17 s\n"
          ]
        },
        {
          "output_type": "execute_result",
          "data": {
            "text/plain": [
              "1000000"
            ]
          },
          "metadata": {},
          "execution_count": 20
        }
      ],
      "source": [
        "%%time \n",
        "df = pd.read_hdf(\"test.h5\")\n",
        "len(df)"
      ]
    },
    {
      "cell_type": "code",
      "execution_count": 21,
      "metadata": {
        "cell_id": "00020-7e533430-03e7-4486-9512-4a5e3fdc7fca",
        "deepnote_cell_type": "code",
        "execution_millis": 9103,
        "execution_start": 1605607954950,
        "output_cleared": false,
        "source_hash": "a1e5a992",
        "tags": [],
        "id": "lRUKVGjFmuAg",
        "outputId": "27f93c55-d6d1-4808-c461-078869cc7157",
        "colab": {
          "base_uri": "https://localhost:8080/"
        }
      },
      "outputs": [
        {
          "output_type": "stream",
          "name": "stdout",
          "text": [
            "CPU times: user 1.33 s, sys: 667 ms, total: 2 s\n",
            "Wall time: 1.87 s\n"
          ]
        },
        {
          "output_type": "execute_result",
          "data": {
            "text/plain": [
              "1000000"
            ]
          },
          "metadata": {},
          "execution_count": 21
        }
      ],
      "source": [
        "%%time \n",
        "df = pd.read_feather('test.feather')\n",
        "len(df)"
      ]
    },
    {
      "cell_type": "code",
      "execution_count": 22,
      "metadata": {
        "cell_id": "00005-c284124d-89af-4ee1-9c47-60d6d5a0241c",
        "deepnote_cell_type": "code",
        "execution_millis": 10083,
        "execution_start": 1605607999155,
        "output_cleared": false,
        "source_hash": "f37bbfe5",
        "tags": [],
        "id": "8x8Orh68muAg",
        "outputId": "d55305b5-dceb-410e-e2cd-4b0feced638f",
        "colab": {
          "base_uri": "https://localhost:8080/"
        }
      },
      "outputs": [
        {
          "output_type": "stream",
          "name": "stdout",
          "text": [
            "CPU times: user 1.89 s, sys: 452 ms, total: 2.35 s\n",
            "Wall time: 1.98 s\n"
          ]
        },
        {
          "output_type": "execute_result",
          "data": {
            "text/plain": [
              "1000000"
            ]
          },
          "metadata": {},
          "execution_count": 22
        }
      ],
      "source": [
        "%%time \n",
        "df = pd.read_parquet('test.parquet')\n",
        "len(df)\n"
      ]
    },
    {
      "cell_type": "code",
      "source": [
        "df.J.nunique()"
      ],
      "metadata": {
        "colab": {
          "base_uri": "https://localhost:8080/"
        },
        "id": "jsZARdFeFOgA",
        "outputId": "3ee55508-2c93-4b50-ddb7-5a86c368e8a1"
      },
      "execution_count": 23,
      "outputs": [
        {
          "output_type": "execute_result",
          "data": {
            "text/plain": [
              "7"
            ]
          },
          "metadata": {},
          "execution_count": 23
        }
      ]
    },
    {
      "cell_type": "code",
      "execution_count": null,
      "metadata": {
        "cell_id": "00027-c22ed092-a58d-4375-affd-da5887c25b6d",
        "deepnote_cell_type": "code",
        "execution_millis": 5,
        "execution_start": 1605608063341,
        "output_cleared": false,
        "source_hash": "f30f989a",
        "tags": [],
        "id": "rnFUf4j5muAi",
        "outputId": "d0c9440b-a296-47bd-d550-638f3c66fc8d"
      },
      "outputs": [
        {
          "data": {
            "text/html": [
              "<div>\n",
              "<style scoped>\n",
              "    .dataframe tbody tr th:only-of-type {\n",
              "        vertical-align: middle;\n",
              "    }\n",
              "\n",
              "    .dataframe tbody tr th {\n",
              "        vertical-align: top;\n",
              "    }\n",
              "\n",
              "    .dataframe thead th {\n",
              "        text-align: right;\n",
              "    }\n",
              "</style>\n",
              "<table border=\"1\" class=\"dataframe\">\n",
              "  <thead>\n",
              "    <tr style=\"text-align: right;\">\n",
              "      <th></th>\n",
              "      <th>A</th>\n",
              "      <th>B</th>\n",
              "      <th>C</th>\n",
              "      <th>D</th>\n",
              "      <th>E</th>\n",
              "      <th>F</th>\n",
              "      <th>G</th>\n",
              "      <th>H</th>\n",
              "      <th>I</th>\n",
              "      <th>J</th>\n",
              "    </tr>\n",
              "  </thead>\n",
              "  <tbody>\n",
              "    <tr>\n",
              "      <th>0</th>\n",
              "      <td>None</td>\n",
              "      <td>0.4001572083672233</td>\n",
              "      <td>0.9787379841057392</td>\n",
              "      <td>2.240893199201458</td>\n",
              "      <td>1.8675579901499675</td>\n",
              "      <td>0</td>\n",
              "      <td>4</td>\n",
              "      <td>0</td>\n",
              "      <td>0</td>\n",
              "      <td>dolorem</td>\n",
              "    </tr>\n",
              "    <tr>\n",
              "      <th>1</th>\n",
              "      <td>-0.977277879876411</td>\n",
              "      <td>0.9500884175255894</td>\n",
              "      <td>-0.1513572082976979</td>\n",
              "      <td>-0.10321885179355784</td>\n",
              "      <td>0.41059850193837233</td>\n",
              "      <td>5</td>\n",
              "      <td>5</td>\n",
              "      <td>0</td>\n",
              "      <td>0</td>\n",
              "      <td>dolorem</td>\n",
              "    </tr>\n",
              "    <tr>\n",
              "      <th>2</th>\n",
              "      <td>0.144043571160878</td>\n",
              "      <td>1.454273506962975</td>\n",
              "      <td>0.7610377251469934</td>\n",
              "      <td>0.12167501649282841</td>\n",
              "      <td>0.44386323274542566</td>\n",
              "      <td>6</td>\n",
              "      <td>1</td>\n",
              "      <td>0</td>\n",
              "      <td>0</td>\n",
              "      <td>eius</td>\n",
              "    </tr>\n",
              "    <tr>\n",
              "      <th>3</th>\n",
              "      <td>0.33367432737426683</td>\n",
              "      <td>1.4940790731576061</td>\n",
              "      <td>-0.20515826376580087</td>\n",
              "      <td>0.31306770165090136</td>\n",
              "      <td>-0.8540957393017248</td>\n",
              "      <td>0</td>\n",
              "      <td>5</td>\n",
              "      <td>0</td>\n",
              "      <td>0</td>\n",
              "      <td>numquam</td>\n",
              "    </tr>\n",
              "    <tr>\n",
              "      <th>4</th>\n",
              "      <td>-2.5529898158340787</td>\n",
              "      <td>0.6536185954403606</td>\n",
              "      <td>0.8644361988595057</td>\n",
              "      <td>-0.7421650204064419</td>\n",
              "      <td>2.2697546239876076</td>\n",
              "      <td>6</td>\n",
              "      <td>7</td>\n",
              "      <td>0</td>\n",
              "      <td>0</td>\n",
              "      <td>sed</td>\n",
              "    </tr>\n",
              "    <tr>\n",
              "      <th>5</th>\n",
              "      <td>-1.4543656745987648</td>\n",
              "      <td>0.04575851730144607</td>\n",
              "      <td>-0.1871838500258336</td>\n",
              "      <td>1.5327792143584575</td>\n",
              "      <td>1.469358769900285</td>\n",
              "      <td>6</td>\n",
              "      <td>0</td>\n",
              "      <td>0</td>\n",
              "      <td>0</td>\n",
              "      <td>labore</td>\n",
              "    </tr>\n",
              "    <tr>\n",
              "      <th>6</th>\n",
              "      <td>0.1549474256969163</td>\n",
              "      <td>0.37816251960217356</td>\n",
              "      <td>-0.8877857476301128</td>\n",
              "      <td>-1.980796468223927</td>\n",
              "      <td>-0.3479121493261526</td>\n",
              "      <td>8</td>\n",
              "      <td>0</td>\n",
              "      <td>0</td>\n",
              "      <td>0</td>\n",
              "      <td>voluptatem</td>\n",
              "    </tr>\n",
              "    <tr>\n",
              "      <th>7</th>\n",
              "      <td>0.15634896910398005</td>\n",
              "      <td>1.2302906807277207</td>\n",
              "      <td>1.2023798487844113</td>\n",
              "      <td>-0.3873268174079523</td>\n",
              "      <td>-0.30230275057533557</td>\n",
              "      <td>5</td>\n",
              "      <td>5</td>\n",
              "      <td>0</td>\n",
              "      <td>0</td>\n",
              "      <td>sed</td>\n",
              "    </tr>\n",
              "    <tr>\n",
              "      <th>8</th>\n",
              "      <td>-1.0485529650670926</td>\n",
              "      <td>-1.4200179371789752</td>\n",
              "      <td>-1.7062701906250126</td>\n",
              "      <td>1.9507753952317897</td>\n",
              "      <td>-0.5096521817516535</td>\n",
              "      <td>7</td>\n",
              "      <td>5</td>\n",
              "      <td>0</td>\n",
              "      <td>0</td>\n",
              "      <td>eius</td>\n",
              "    </tr>\n",
              "    <tr>\n",
              "      <th>9</th>\n",
              "      <td>-0.4380743016111864</td>\n",
              "      <td>-1.2527953600499262</td>\n",
              "      <td>0.7774903558319101</td>\n",
              "      <td>-1.6138978475579515</td>\n",
              "      <td>-0.2127402802139687</td>\n",
              "      <td>2</td>\n",
              "      <td>0</td>\n",
              "      <td>0</td>\n",
              "      <td>0</td>\n",
              "      <td>voluptatem</td>\n",
              "    </tr>\n",
              "  </tbody>\n",
              "</table>\n",
              "</div>"
            ],
            "text/plain": [
              "                     A                    B                     C  \\\n",
              "0                 None   0.4001572083672233    0.9787379841057392   \n",
              "1   -0.977277879876411   0.9500884175255894   -0.1513572082976979   \n",
              "2    0.144043571160878    1.454273506962975    0.7610377251469934   \n",
              "3  0.33367432737426683   1.4940790731576061  -0.20515826376580087   \n",
              "4  -2.5529898158340787   0.6536185954403606    0.8644361988595057   \n",
              "5  -1.4543656745987648  0.04575851730144607   -0.1871838500258336   \n",
              "6   0.1549474256969163  0.37816251960217356   -0.8877857476301128   \n",
              "7  0.15634896910398005   1.2302906807277207    1.2023798487844113   \n",
              "8  -1.0485529650670926  -1.4200179371789752   -1.7062701906250126   \n",
              "9  -0.4380743016111864  -1.2527953600499262    0.7774903558319101   \n",
              "\n",
              "                      D                     E  F  G  H  I           J  \n",
              "0     2.240893199201458    1.8675579901499675  0  4  0  0     dolorem  \n",
              "1  -0.10321885179355784   0.41059850193837233  5  5  0  0     dolorem  \n",
              "2   0.12167501649282841   0.44386323274542566  6  1  0  0        eius  \n",
              "3   0.31306770165090136   -0.8540957393017248  0  5  0  0     numquam  \n",
              "4   -0.7421650204064419    2.2697546239876076  6  7  0  0         sed  \n",
              "5    1.5327792143584575     1.469358769900285  6  0  0  0      labore  \n",
              "6    -1.980796468223927   -0.3479121493261526  8  0  0  0  voluptatem  \n",
              "7   -0.3873268174079523  -0.30230275057533557  5  5  0  0         sed  \n",
              "8    1.9507753952317897   -0.5096521817516535  7  5  0  0        eius  \n",
              "9   -1.6138978475579515   -0.2127402802139687  2  0  0  0  voluptatem  "
            ]
          },
          "execution_count": 22,
          "metadata": {},
          "output_type": "execute_result"
        }
      ],
      "source": [
        "df.head(10)"
      ]
    },
    {
      "cell_type": "code",
      "execution_count": 24,
      "metadata": {
        "cell_id": "00011-8618020c-4639-4a88-b9f2-0e1212e9c7cf",
        "deepnote_cell_type": "code",
        "execution_millis": 470,
        "execution_start": 1605608091018,
        "output_cleared": false,
        "source_hash": "d56ddf52",
        "tags": [],
        "id": "et_j8t3bmuAj"
      },
      "outputs": [],
      "source": [
        "df['J'] = pd.Categorical(df.J)"
      ]
    },
    {
      "cell_type": "code",
      "execution_count": 25,
      "metadata": {
        "cell_id": "00023-cf2defbc-03c8-4b43-becd-82bc3e39cdee",
        "deepnote_cell_type": "code",
        "execution_millis": 1959,
        "execution_start": 1605608105636,
        "output_cleared": false,
        "source_hash": "1ddaec9a",
        "tags": [],
        "id": "e2JanzGPmuAk",
        "outputId": "fedbabae-8b15-477f-ab9c-89e9eab975f4",
        "colab": {
          "base_uri": "https://localhost:8080/"
        }
      },
      "outputs": [
        {
          "output_type": "stream",
          "name": "stdout",
          "text": [
            "CPU times: user 947 ms, sys: 215 ms, total: 1.16 s\n",
            "Wall time: 948 ms\n"
          ]
        }
      ],
      "source": [
        "%time df.to_feather('test.feather')\n"
      ]
    },
    {
      "cell_type": "code",
      "execution_count": 26,
      "metadata": {
        "cell_id": "00024-8c3f3bc6-d8b5-4915-a22e-89d77df8f8a3",
        "deepnote_cell_type": "code",
        "execution_millis": 2699,
        "execution_start": 1605608134600,
        "output_cleared": false,
        "source_hash": "3658418d",
        "tags": [],
        "id": "W5VkQSQomuAn",
        "outputId": "32a7bc14-de8a-47cf-d3fb-f4054d264655",
        "colab": {
          "base_uri": "https://localhost:8080/"
        }
      },
      "outputs": [
        {
          "output_type": "stream",
          "name": "stdout",
          "text": [
            "CPU times: user 1.27 s, sys: 167 ms, total: 1.44 s\n",
            "Wall time: 1.48 s\n"
          ]
        }
      ],
      "source": [
        "%time df.to_parquet('test.parquet')"
      ]
    },
    {
      "cell_type": "code",
      "execution_count": 27,
      "metadata": {
        "cell_id": "00012-7c986385-4bc6-4c82-8079-36a53df467ef",
        "deepnote_cell_type": "code",
        "execution_millis": 6995,
        "execution_start": 1605608145002,
        "output_cleared": false,
        "source_hash": "a1e5a992",
        "tags": [],
        "id": "5YrP5iQgmuAp",
        "outputId": "f26d7a6b-0de3-4443-dd2f-56b3886d4953",
        "colab": {
          "base_uri": "https://localhost:8080/"
        }
      },
      "outputs": [
        {
          "output_type": "stream",
          "name": "stdout",
          "text": [
            "CPU times: user 1.36 s, sys: 526 ms, total: 1.89 s\n",
            "Wall time: 1.81 s\n"
          ]
        },
        {
          "output_type": "execute_result",
          "data": {
            "text/plain": [
              "1000000"
            ]
          },
          "metadata": {},
          "execution_count": 27
        }
      ],
      "source": [
        "%%time \n",
        "df = pd.read_feather('test.feather')\n",
        "len(df)"
      ]
    },
    {
      "cell_type": "code",
      "execution_count": 28,
      "metadata": {
        "cell_id": "00024-245a1c05-2399-4d6c-95f0-195be6f23e3e",
        "deepnote_cell_type": "code",
        "execution_millis": 10342,
        "execution_start": 1605608190354,
        "output_cleared": false,
        "source_hash": "f37bbfe5",
        "tags": [],
        "id": "9xP5q-gKmuAp",
        "outputId": "47d2ef4b-85ac-4f24-96b2-bdb0c494addd",
        "colab": {
          "base_uri": "https://localhost:8080/"
        }
      },
      "outputs": [
        {
          "output_type": "stream",
          "name": "stdout",
          "text": [
            "CPU times: user 1.97 s, sys: 466 ms, total: 2.43 s\n",
            "Wall time: 2.4 s\n"
          ]
        },
        {
          "output_type": "execute_result",
          "data": {
            "text/plain": [
              "1000000"
            ]
          },
          "metadata": {},
          "execution_count": 28
        }
      ],
      "source": [
        "%%time \n",
        "df = pd.read_parquet('test.parquet')\n",
        "len(df)"
      ]
    },
    {
      "cell_type": "markdown",
      "metadata": {
        "cell_id": "00029-832b0847-4adb-4f4b-8357-66febb207dda",
        "deepnote_cell_type": "markdown",
        "tags": [],
        "id": "aNG8SXXrmuAr"
      },
      "source": [
        "- Формат Parquet предназначен для долговременного хранения, тогда как Arrow больше предназначен для краткосрочного или эфемерного хранения, так как объем файлов больше.\n",
        "- Запись Parquet обычно дороже, чем Feather, поскольку в нем больше уровней кодирования и сжатия.\n",
        "- Feather представляет собой немодифицированную необработанную столбчатую память Arrow. Возможно, в будущем мы добавим в Feather простое сжатие.\n",
        "- Из-за кодирования словаря, кодирования RLE и сжатия страниц данных файлы Parquet часто будут намного меньше, чем файлы Feather.\n",
        "— Parquet — это стандартный формат хранения аналитики, поддерживаемый Spark. Поэтому, если вы занимаетесь аналитикой, Parquet — хороший вариант в качестве эталонного формата хранения для запросов из нескольких систем.\n",
        "\n",
        "[исходный stackoverflow] (https://stackoverflow.com/questions/48083405/what-are-the-differences-between-feather-and-parquet)"
      ]
    },
    {
      "cell_type": "markdown",
      "metadata": {
        "cell_id": "00005-9a75a293-b946-4598-bd67-3fd8415c48c2",
        "deepnote_cell_type": "markdown",
        "id": "SdJlU7hgmuAt"
      },
      "source": [
        "## Apache Arrow\n",
        "\n",
        "[Arrow](https://arrow.apache.org/docs/python/) — это уровень столбцовой аналитики в памяти, предназначенный для ускорения работы с большими данными.\n",
        "Он содержит набор канонических представлений в памяти\n",
        "иерархические данные вместе с несколькими языковыми привязками\n",
        "для манипуляций со структурой. Arrow предлагает унифицированный способ\n",
        "использовать одно и то же представление данных между языками, и это, безусловно, будет\n",
        "следующий стандарт для хранения фреймов данных на всех языках.\n",
        "\n",
        "- [R package](https://cran.r-project.org/web/packages/arrow/index.html)\n",
        "- [Julia package](https://github.com/JuliaData/Arrow.jl)\n",
        "- [GitHub project](https://github.com/apache/arrow)\n",
        "\n",
        "![](https://github.com/pnavaro/big-data/blob/master/notebooks/images/arrow_ecosystem.png?raw=1)\n",
        "\n",
        "Apache Arrow — идеальный транспортный уровень в памяти для данных, которые считываются или записываются с помощью файлов Parquet. [PyArrow] (https://arrow.apache.org/docs/python/) включает привязки Python для чтения и записи файлов Parquet с пандами.\n",
        "\n",
        "- столбцовое хранилище, читайте только интересующие данные\n",
        "- эффективная бинарная упаковка\n",
        "- выбор алгоритмов сжатия и кодирования\n",
        "- разбивать данные на файлы, что позволяет выполнять параллельную обработку\n",
        "- диапазон логических типов\n",
        "- статистика, хранящаяся в метаданных, позволяет пропускать ненужные куски\n",
        "- разбиение данных с использованием структуры каталогов\n",
        "\n",
        "![arrow](https://github.com/pnavaro/big-data/blob/master/notebooks/images/arrow.png?raw=1)\n",
        "\n",
        "- https://arrow.apache.org/docs/python/csv.html\n",
        "- https://arrow.apache.org/docs/python/feather.html\n",
        "- https://arrow.apache.org/docs/python/parquet.html"
      ]
    },
    {
      "cell_type": "markdown",
      "metadata": {
        "cell_id": "00005-9a75a293-b946-4598-bd67-3fd8415c48c2",
        "deepnote_cell_type": "markdown",
        "id": "AskF0YXWmuAv"
      },
      "source": [
        "Example:\n",
        "\n",
        "```py\n",
        "import pyarrow as pa\n",
        "import pyarrow.parquet as pq\n",
        "import pandas as pd\n",
        "import numpy as np\n",
        "arr = np.random.randn(500000) # 10% nulls\n",
        "arr[::10] = np.nan\n",
        "df = pd.DataFrame({'column_{0}'.format(i): arr for i in range(10)})\n",
        "\n",
        "hdfs = pa.hdfs.connect()\n",
        "table = pa.Table.from_pandas(df)\n",
        "pq.write_to_dataset(table, root_path=\"test\", filesystem=hdfs)\n",
        "hdfs.ls(\"test\")\n",
        "\n",
        "```"
      ]
    },
    {
      "cell_type": "code",
      "source": [
        "import pyarrow as pa\n",
        "import pyarrow.parquet as pq\n",
        "import pandas as pd\n",
        "import numpy as np\n",
        "arr = np.random.randn(500000) # 10% nulls\n",
        "arr[::10] = np.nan\n",
        "df = pd.DataFrame({'column_{0}'.format(i): arr for i in range(10)})\n",
        "\n",
        "hdfs = pa.hdfs.connect()\n",
        "table = pa.Table.from_pandas(df)\n",
        "pq.write_to_dataset(table, root_path=\"test\", filesystem=hdfs)\n",
        "hdfs.ls(\"test\")"
      ],
      "metadata": {
        "colab": {
          "base_uri": "https://localhost:8080/",
          "height": 480
        },
        "id": "hw1fVmvhGoSo",
        "outputId": "b5040999-3572-42c9-bd10-834b52f26903"
      },
      "execution_count": 30,
      "outputs": [
        {
          "output_type": "stream",
          "name": "stderr",
          "text": [
            "/usr/local/lib/python3.7/dist-packages/ipykernel_launcher.py:9: FutureWarning: pyarrow.hdfs.connect is deprecated as of 2.0.0, please use pyarrow.fs.HadoopFileSystem instead.\n",
            "  if __name__ == '__main__':\n"
          ]
        },
        {
          "output_type": "error",
          "ename": "FileNotFoundError",
          "evalue": "ignored",
          "traceback": [
            "\u001b[0;31m---------------------------------------------------------------------------\u001b[0m",
            "\u001b[0;31mFileNotFoundError\u001b[0m                         Traceback (most recent call last)",
            "\u001b[0;32m<ipython-input-30-79b7270e9b33>\u001b[0m in \u001b[0;36m<module>\u001b[0;34m\u001b[0m\n\u001b[1;32m      7\u001b[0m \u001b[0mdf\u001b[0m \u001b[0;34m=\u001b[0m \u001b[0mpd\u001b[0m\u001b[0;34m.\u001b[0m\u001b[0mDataFrame\u001b[0m\u001b[0;34m(\u001b[0m\u001b[0;34m{\u001b[0m\u001b[0;34m'column_{0}'\u001b[0m\u001b[0;34m.\u001b[0m\u001b[0mformat\u001b[0m\u001b[0;34m(\u001b[0m\u001b[0mi\u001b[0m\u001b[0;34m)\u001b[0m\u001b[0;34m:\u001b[0m \u001b[0marr\u001b[0m \u001b[0;32mfor\u001b[0m \u001b[0mi\u001b[0m \u001b[0;32min\u001b[0m \u001b[0mrange\u001b[0m\u001b[0;34m(\u001b[0m\u001b[0;36m10\u001b[0m\u001b[0;34m)\u001b[0m\u001b[0;34m}\u001b[0m\u001b[0;34m)\u001b[0m\u001b[0;34m\u001b[0m\u001b[0;34m\u001b[0m\u001b[0m\n\u001b[1;32m      8\u001b[0m \u001b[0;34m\u001b[0m\u001b[0m\n\u001b[0;32m----> 9\u001b[0;31m \u001b[0mhdfs\u001b[0m \u001b[0;34m=\u001b[0m \u001b[0mpa\u001b[0m\u001b[0;34m.\u001b[0m\u001b[0mhdfs\u001b[0m\u001b[0;34m.\u001b[0m\u001b[0mconnect\u001b[0m\u001b[0;34m(\u001b[0m\u001b[0;34m)\u001b[0m\u001b[0;34m\u001b[0m\u001b[0;34m\u001b[0m\u001b[0m\n\u001b[0m\u001b[1;32m     10\u001b[0m \u001b[0mtable\u001b[0m \u001b[0;34m=\u001b[0m \u001b[0mpa\u001b[0m\u001b[0;34m.\u001b[0m\u001b[0mTable\u001b[0m\u001b[0;34m.\u001b[0m\u001b[0mfrom_pandas\u001b[0m\u001b[0;34m(\u001b[0m\u001b[0mdf\u001b[0m\u001b[0;34m)\u001b[0m\u001b[0;34m\u001b[0m\u001b[0;34m\u001b[0m\u001b[0m\n\u001b[1;32m     11\u001b[0m \u001b[0mpq\u001b[0m\u001b[0;34m.\u001b[0m\u001b[0mwrite_to_dataset\u001b[0m\u001b[0;34m(\u001b[0m\u001b[0mtable\u001b[0m\u001b[0;34m,\u001b[0m \u001b[0mroot_path\u001b[0m\u001b[0;34m=\u001b[0m\u001b[0;34m\"test\"\u001b[0m\u001b[0;34m,\u001b[0m \u001b[0mfilesystem\u001b[0m\u001b[0;34m=\u001b[0m\u001b[0mhdfs\u001b[0m\u001b[0;34m)\u001b[0m\u001b[0;34m\u001b[0m\u001b[0;34m\u001b[0m\u001b[0m\n",
            "\u001b[0;32m/usr/local/lib/python3.7/dist-packages/pyarrow/hdfs.py\u001b[0m in \u001b[0;36mconnect\u001b[0;34m(host, port, user, kerb_ticket, extra_conf)\u001b[0m\n\u001b[1;32m    227\u001b[0m     return _connect(\n\u001b[1;32m    228\u001b[0m         \u001b[0mhost\u001b[0m\u001b[0;34m=\u001b[0m\u001b[0mhost\u001b[0m\u001b[0;34m,\u001b[0m \u001b[0mport\u001b[0m\u001b[0;34m=\u001b[0m\u001b[0mport\u001b[0m\u001b[0;34m,\u001b[0m \u001b[0muser\u001b[0m\u001b[0;34m=\u001b[0m\u001b[0muser\u001b[0m\u001b[0;34m,\u001b[0m \u001b[0mkerb_ticket\u001b[0m\u001b[0;34m=\u001b[0m\u001b[0mkerb_ticket\u001b[0m\u001b[0;34m,\u001b[0m\u001b[0;34m\u001b[0m\u001b[0;34m\u001b[0m\u001b[0m\n\u001b[0;32m--> 229\u001b[0;31m         \u001b[0mextra_conf\u001b[0m\u001b[0;34m=\u001b[0m\u001b[0mextra_conf\u001b[0m\u001b[0;34m\u001b[0m\u001b[0;34m\u001b[0m\u001b[0m\n\u001b[0m\u001b[1;32m    230\u001b[0m     )\n\u001b[1;32m    231\u001b[0m \u001b[0;34m\u001b[0m\u001b[0m\n",
            "\u001b[0;32m/usr/local/lib/python3.7/dist-packages/pyarrow/hdfs.py\u001b[0m in \u001b[0;36m_connect\u001b[0;34m(host, port, user, kerb_ticket, extra_conf)\u001b[0m\n\u001b[1;32m    237\u001b[0m         fs = HadoopFileSystem(host=host, port=port, user=user,\n\u001b[1;32m    238\u001b[0m                               \u001b[0mkerb_ticket\u001b[0m\u001b[0;34m=\u001b[0m\u001b[0mkerb_ticket\u001b[0m\u001b[0;34m,\u001b[0m\u001b[0;34m\u001b[0m\u001b[0;34m\u001b[0m\u001b[0m\n\u001b[0;32m--> 239\u001b[0;31m                               extra_conf=extra_conf)\n\u001b[0m\u001b[1;32m    240\u001b[0m     \u001b[0;32mreturn\u001b[0m \u001b[0mfs\u001b[0m\u001b[0;34m\u001b[0m\u001b[0;34m\u001b[0m\u001b[0m\n",
            "\u001b[0;32m/usr/local/lib/python3.7/dist-packages/pyarrow/hdfs.py\u001b[0m in \u001b[0;36m__init__\u001b[0;34m(self, host, port, user, kerb_ticket, driver, extra_conf)\u001b[0m\n\u001b[1;32m     45\u001b[0m             FutureWarning, stacklevel=2)\n\u001b[1;32m     46\u001b[0m         \u001b[0;32mif\u001b[0m \u001b[0mdriver\u001b[0m \u001b[0;34m==\u001b[0m \u001b[0;34m'libhdfs'\u001b[0m\u001b[0;34m:\u001b[0m\u001b[0;34m\u001b[0m\u001b[0;34m\u001b[0m\u001b[0m\n\u001b[0;32m---> 47\u001b[0;31m             \u001b[0m_maybe_set_hadoop_classpath\u001b[0m\u001b[0;34m(\u001b[0m\u001b[0;34m)\u001b[0m\u001b[0;34m\u001b[0m\u001b[0;34m\u001b[0m\u001b[0m\n\u001b[0m\u001b[1;32m     48\u001b[0m \u001b[0;34m\u001b[0m\u001b[0m\n\u001b[1;32m     49\u001b[0m         \u001b[0mself\u001b[0m\u001b[0;34m.\u001b[0m\u001b[0m_connect\u001b[0m\u001b[0;34m(\u001b[0m\u001b[0mhost\u001b[0m\u001b[0;34m,\u001b[0m \u001b[0mport\u001b[0m\u001b[0;34m,\u001b[0m \u001b[0muser\u001b[0m\u001b[0;34m,\u001b[0m \u001b[0mkerb_ticket\u001b[0m\u001b[0;34m,\u001b[0m \u001b[0mextra_conf\u001b[0m\u001b[0;34m)\u001b[0m\u001b[0;34m\u001b[0m\u001b[0;34m\u001b[0m\u001b[0m\n",
            "\u001b[0;32m/usr/local/lib/python3.7/dist-packages/pyarrow/hdfs.py\u001b[0m in \u001b[0;36m_maybe_set_hadoop_classpath\u001b[0;34m()\u001b[0m\n\u001b[1;32m    145\u001b[0m             \u001b[0mclasspath\u001b[0m \u001b[0;34m=\u001b[0m \u001b[0m_hadoop_classpath_glob\u001b[0m\u001b[0;34m(\u001b[0m\u001b[0mhadoop_bin\u001b[0m\u001b[0;34m)\u001b[0m\u001b[0;34m\u001b[0m\u001b[0;34m\u001b[0m\u001b[0m\n\u001b[1;32m    146\u001b[0m     \u001b[0;32melse\u001b[0m\u001b[0;34m:\u001b[0m\u001b[0;34m\u001b[0m\u001b[0;34m\u001b[0m\u001b[0m\n\u001b[0;32m--> 147\u001b[0;31m         \u001b[0mclasspath\u001b[0m \u001b[0;34m=\u001b[0m \u001b[0m_hadoop_classpath_glob\u001b[0m\u001b[0;34m(\u001b[0m\u001b[0;34m'hadoop'\u001b[0m\u001b[0;34m)\u001b[0m\u001b[0;34m\u001b[0m\u001b[0;34m\u001b[0m\u001b[0m\n\u001b[0m\u001b[1;32m    148\u001b[0m \u001b[0;34m\u001b[0m\u001b[0m\n\u001b[1;32m    149\u001b[0m     \u001b[0mos\u001b[0m\u001b[0;34m.\u001b[0m\u001b[0menviron\u001b[0m\u001b[0;34m[\u001b[0m\u001b[0;34m'CLASSPATH'\u001b[0m\u001b[0;34m]\u001b[0m \u001b[0;34m=\u001b[0m \u001b[0mclasspath\u001b[0m\u001b[0;34m.\u001b[0m\u001b[0mdecode\u001b[0m\u001b[0;34m(\u001b[0m\u001b[0;34m'utf-8'\u001b[0m\u001b[0;34m)\u001b[0m\u001b[0;34m\u001b[0m\u001b[0;34m\u001b[0m\u001b[0m\n",
            "\u001b[0;32m/usr/local/lib/python3.7/dist-packages/pyarrow/hdfs.py\u001b[0m in \u001b[0;36m_hadoop_classpath_glob\u001b[0;34m(hadoop_bin)\u001b[0m\n\u001b[1;32m    170\u001b[0m \u001b[0;34m\u001b[0m\u001b[0m\n\u001b[1;32m    171\u001b[0m     \u001b[0mhadoop_classpath_args\u001b[0m \u001b[0;34m=\u001b[0m \u001b[0;34m(\u001b[0m\u001b[0mhadoop_bin\u001b[0m\u001b[0;34m,\u001b[0m \u001b[0;34m'classpath'\u001b[0m\u001b[0;34m,\u001b[0m \u001b[0;34m'--glob'\u001b[0m\u001b[0;34m)\u001b[0m\u001b[0;34m\u001b[0m\u001b[0;34m\u001b[0m\u001b[0m\n\u001b[0;32m--> 172\u001b[0;31m     \u001b[0;32mreturn\u001b[0m \u001b[0msubprocess\u001b[0m\u001b[0;34m.\u001b[0m\u001b[0mcheck_output\u001b[0m\u001b[0;34m(\u001b[0m\u001b[0mhadoop_classpath_args\u001b[0m\u001b[0;34m)\u001b[0m\u001b[0;34m\u001b[0m\u001b[0;34m\u001b[0m\u001b[0m\n\u001b[0m\u001b[1;32m    173\u001b[0m \u001b[0;34m\u001b[0m\u001b[0m\n\u001b[1;32m    174\u001b[0m \u001b[0;34m\u001b[0m\u001b[0m\n",
            "\u001b[0;32m/usr/lib/python3.7/subprocess.py\u001b[0m in \u001b[0;36mcheck_output\u001b[0;34m(timeout, *popenargs, **kwargs)\u001b[0m\n\u001b[1;32m    409\u001b[0m \u001b[0;34m\u001b[0m\u001b[0m\n\u001b[1;32m    410\u001b[0m     return run(*popenargs, stdout=PIPE, timeout=timeout, check=True,\n\u001b[0;32m--> 411\u001b[0;31m                **kwargs).stdout\n\u001b[0m\u001b[1;32m    412\u001b[0m \u001b[0;34m\u001b[0m\u001b[0m\n\u001b[1;32m    413\u001b[0m \u001b[0;34m\u001b[0m\u001b[0m\n",
            "\u001b[0;32m/usr/lib/python3.7/subprocess.py\u001b[0m in \u001b[0;36mrun\u001b[0;34m(input, capture_output, timeout, check, *popenargs, **kwargs)\u001b[0m\n\u001b[1;32m    486\u001b[0m         \u001b[0mkwargs\u001b[0m\u001b[0;34m[\u001b[0m\u001b[0;34m'stderr'\u001b[0m\u001b[0;34m]\u001b[0m \u001b[0;34m=\u001b[0m \u001b[0mPIPE\u001b[0m\u001b[0;34m\u001b[0m\u001b[0;34m\u001b[0m\u001b[0m\n\u001b[1;32m    487\u001b[0m \u001b[0;34m\u001b[0m\u001b[0m\n\u001b[0;32m--> 488\u001b[0;31m     \u001b[0;32mwith\u001b[0m \u001b[0mPopen\u001b[0m\u001b[0;34m(\u001b[0m\u001b[0;34m*\u001b[0m\u001b[0mpopenargs\u001b[0m\u001b[0;34m,\u001b[0m \u001b[0;34m**\u001b[0m\u001b[0mkwargs\u001b[0m\u001b[0;34m)\u001b[0m \u001b[0;32mas\u001b[0m \u001b[0mprocess\u001b[0m\u001b[0;34m:\u001b[0m\u001b[0;34m\u001b[0m\u001b[0;34m\u001b[0m\u001b[0m\n\u001b[0m\u001b[1;32m    489\u001b[0m         \u001b[0;32mtry\u001b[0m\u001b[0;34m:\u001b[0m\u001b[0;34m\u001b[0m\u001b[0;34m\u001b[0m\u001b[0m\n\u001b[1;32m    490\u001b[0m             \u001b[0mstdout\u001b[0m\u001b[0;34m,\u001b[0m \u001b[0mstderr\u001b[0m \u001b[0;34m=\u001b[0m \u001b[0mprocess\u001b[0m\u001b[0;34m.\u001b[0m\u001b[0mcommunicate\u001b[0m\u001b[0;34m(\u001b[0m\u001b[0minput\u001b[0m\u001b[0;34m,\u001b[0m \u001b[0mtimeout\u001b[0m\u001b[0;34m=\u001b[0m\u001b[0mtimeout\u001b[0m\u001b[0;34m)\u001b[0m\u001b[0;34m\u001b[0m\u001b[0;34m\u001b[0m\u001b[0m\n",
            "\u001b[0;32m/usr/lib/python3.7/subprocess.py\u001b[0m in \u001b[0;36m__init__\u001b[0;34m(self, args, bufsize, executable, stdin, stdout, stderr, preexec_fn, close_fds, shell, cwd, env, universal_newlines, startupinfo, creationflags, restore_signals, start_new_session, pass_fds, encoding, errors, text)\u001b[0m\n\u001b[1;32m    798\u001b[0m                                 \u001b[0mc2pread\u001b[0m\u001b[0;34m,\u001b[0m \u001b[0mc2pwrite\u001b[0m\u001b[0;34m,\u001b[0m\u001b[0;34m\u001b[0m\u001b[0;34m\u001b[0m\u001b[0m\n\u001b[1;32m    799\u001b[0m                                 \u001b[0merrread\u001b[0m\u001b[0;34m,\u001b[0m \u001b[0merrwrite\u001b[0m\u001b[0;34m,\u001b[0m\u001b[0;34m\u001b[0m\u001b[0;34m\u001b[0m\u001b[0m\n\u001b[0;32m--> 800\u001b[0;31m                                 restore_signals, start_new_session)\n\u001b[0m\u001b[1;32m    801\u001b[0m         \u001b[0;32mexcept\u001b[0m\u001b[0;34m:\u001b[0m\u001b[0;34m\u001b[0m\u001b[0;34m\u001b[0m\u001b[0m\n\u001b[1;32m    802\u001b[0m             \u001b[0;31m# Cleanup if the child failed starting.\u001b[0m\u001b[0;34m\u001b[0m\u001b[0;34m\u001b[0m\u001b[0;34m\u001b[0m\u001b[0m\n",
            "\u001b[0;32m/usr/lib/python3.7/subprocess.py\u001b[0m in \u001b[0;36m_execute_child\u001b[0;34m(self, args, executable, preexec_fn, close_fds, pass_fds, cwd, env, startupinfo, creationflags, shell, p2cread, p2cwrite, c2pread, c2pwrite, errread, errwrite, restore_signals, start_new_session)\u001b[0m\n\u001b[1;32m   1549\u001b[0m                         \u001b[0;32mif\u001b[0m \u001b[0merrno_num\u001b[0m \u001b[0;34m==\u001b[0m \u001b[0merrno\u001b[0m\u001b[0;34m.\u001b[0m\u001b[0mENOENT\u001b[0m\u001b[0;34m:\u001b[0m\u001b[0;34m\u001b[0m\u001b[0;34m\u001b[0m\u001b[0m\n\u001b[1;32m   1550\u001b[0m                             \u001b[0merr_msg\u001b[0m \u001b[0;34m+=\u001b[0m \u001b[0;34m': '\u001b[0m \u001b[0;34m+\u001b[0m \u001b[0mrepr\u001b[0m\u001b[0;34m(\u001b[0m\u001b[0merr_filename\u001b[0m\u001b[0;34m)\u001b[0m\u001b[0;34m\u001b[0m\u001b[0;34m\u001b[0m\u001b[0m\n\u001b[0;32m-> 1551\u001b[0;31m                     \u001b[0;32mraise\u001b[0m \u001b[0mchild_exception_type\u001b[0m\u001b[0;34m(\u001b[0m\u001b[0merrno_num\u001b[0m\u001b[0;34m,\u001b[0m \u001b[0merr_msg\u001b[0m\u001b[0;34m,\u001b[0m \u001b[0merr_filename\u001b[0m\u001b[0;34m)\u001b[0m\u001b[0;34m\u001b[0m\u001b[0;34m\u001b[0m\u001b[0m\n\u001b[0m\u001b[1;32m   1552\u001b[0m                 \u001b[0;32mraise\u001b[0m \u001b[0mchild_exception_type\u001b[0m\u001b[0;34m(\u001b[0m\u001b[0merr_msg\u001b[0m\u001b[0;34m)\u001b[0m\u001b[0;34m\u001b[0m\u001b[0;34m\u001b[0m\u001b[0m\n\u001b[1;32m   1553\u001b[0m \u001b[0;34m\u001b[0m\u001b[0m\n",
            "\u001b[0;31mFileNotFoundError\u001b[0m: [Errno 2] No such file or directory: 'hadoop': 'hadoop'"
          ]
        }
      ]
    },
    {
      "cell_type": "markdown",
      "metadata": {
        "cell_id": "00005-9a75a293-b946-4598-bd67-3fd8415c48c2",
        "deepnote_cell_type": "markdown",
        "id": "Fevk2ZCUmuAx"
      },
      "source": [
        "### Read CSV from HDFS\n",
        "\n",
        "Put the file test.csv on hdfs system \n",
        "\n",
        "```python\n",
        "from pyarrow import csv\n",
        "with hdfs.open(\"/data/nycflights/1999.csv\", \"rb\") as f:\n",
        " df = pd.read_csv(f, nrows = 10)\n",
        "print(df.head())\n",
        "```\n",
        "\n",
        "### Read Parquet File from HDFS with pandas\n",
        "\n",
        "```python\n",
        "import pandas as pd\n",
        "wikipedia = pd.read_parquet(\"hdfs://svmass2.mass.uhb.fr:54310/data/pagecounts-parquet/part-00007-8575060f-6b57-45ea-bf1d-cd77b6141f70.snappy.parquet\", engine=’pyarrow’)\n",
        "print(wikipedia.head())\n",
        "```\n",
        "### Read Parquet File with pyarrow\n",
        "\n",
        "```py\n",
        "table = pq.read_table(\"example.parquet\")\n",
        "```\n",
        "\n",
        "### Writing a parquet file from Apache Arrow\n",
        "```py\n",
        "pq.write_table(table, \"example.parquet\")\n",
        "```\n",
        "\n",
        "### Check metadata\n",
        "```py\n",
        "parquet_file = pq.ParquetFile(\"example.parquet\")\n",
        "print(parquet_file.metadata)\n",
        "```\n",
        "\n",
        "### See schema\n",
        "```py\n",
        "print(parquet_file.schema)\n",
        "```\n",
        "\n",
        "### Connect to the Hadoop file system\n",
        "\n",
        "```py\n",
        "hdfs = pa.hdfs.connect()\n",
        "\n",
        "# copy to local\n",
        "with hdfs.open(\"user.txt\", \"rb\") as f:\n",
        "    f.download(\"user.text\")\n",
        "\n",
        "# write parquet file on hdfs\n",
        "with open(\"example.parquet\", \"rb\") as f:\n",
        "    pa.HadoopFileSystem.upload(hdfs, \"example.parquet\", f)\n",
        "\n",
        "# List files\n",
        "for f in hdfs.ls(\"/user/navaro_p\"):\n",
        "    print(f)\n",
        "\n",
        "# create a small dataframe and write it to hadoop file system\n",
        "small_df = pd.DataFrame(np.array([[1, 2, 3], [4, 5, 6], [7, 8, 9]]), columns=['a', 'b', 'c'])\n",
        "table = pa.Table.from_pandas(small_df)\n",
        "pq.write_table(table, \"small_df.parquet\", filesystem=hdfs)\n",
        "\n",
        "\n",
        "# Read files from Hadoop with pandas\n",
        "with hdfs.open(\"/data/irmar.csv\") as f:\n",
        "    df = pd.read_csv(f)\n",
        "\n",
        "print(df.head())\n",
        "\n",
        "# Read parquet file from Hadoop with pandas\n",
        "server = \"hdfs://svmass2.mass.uhb.fr:54310\"\n",
        "path = \"data/pagecounts-parquet/part-00007-8575060f-6b57-45ea-bf1d-cd77b6141f70.snappy.parquet\"\n",
        "pagecount = pd.read_parquet(os.path.join(server, path), engine=\"pyarrow\")\n",
        "print(pagecount.head())\n",
        "\n",
        "# Read parquet file from Hadoop with pyarrow\n",
        "table = pq.read_table(os.path.join(server,path))\n",
        "print(table.schema)\n",
        "df = table.to_pandas()\n",
        "print(df.head())\n",
        "```"
      ]
    }
  ],
  "metadata": {
    "deepnote_execution_queue": [],
    "deepnote_notebook_id": "a7088f08-45cf-4fa4-910d-a13ff12600d1",
    "kernelspec": {
      "display_name": "big-data",
      "language": "python",
      "name": "big-data"
    },
    "language_info": {
      "codemirror_mode": {
        "name": "ipython",
        "version": 3
      },
      "file_extension": ".py",
      "mimetype": "text/x-python",
      "name": "python",
      "nbconvert_exporter": "python",
      "pygments_lexer": "ipython3",
      "version": "3.8.13"
    },
    "colab": {
      "name": "Python FileFormats.ipynb",
      "provenance": []
    }
  },
  "nbformat": 4,
  "nbformat_minor": 0
}